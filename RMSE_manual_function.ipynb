{
  "nbformat": 4,
  "nbformat_minor": 0,
  "metadata": {
    "colab": {
      "name": "RMSE manual function.ipynb",
      "provenance": []
    },
    "kernelspec": {
      "name": "python3",
      "display_name": "Python 3"
    }
  },
  "cells": [
    {
      "cell_type": "code",
      "metadata": {
        "id": "4FHuIXyYF7Fo",
        "colab_type": "code",
        "colab": {}
      },
      "source": [
        "import numpy as np\n",
        "import math"
      ],
      "execution_count": 0,
      "outputs": []
    },
    {
      "cell_type": "code",
      "metadata": {
        "id": "iX0Lh39lGIQr",
        "colab_type": "code",
        "colab": {}
      },
      "source": [
        "def RMSE(prediction, targets):\n",
        "  return np.sqrt(  ((prediction - targets) **2).mean()  )  "
      ],
      "execution_count": 0,
      "outputs": []
    },
    {
      "cell_type": "code",
      "metadata": {
        "id": "4STC0fY6HVlN",
        "colab_type": "code",
        "colab": {}
      },
      "source": [
        "def RMSE(prediction,targets):\n",
        "  return math.sqrt(  ((prediction-targets) ** 2).mean() )"
      ],
      "execution_count": 0,
      "outputs": []
    },
    {
      "cell_type": "code",
      "metadata": {
        "id": "cru3CbUPICh2",
        "colab_type": "code",
        "colab": {}
      },
      "source": [
        "def rmse(predictions, targets):\n",
        "\n",
        "    differences = predictions - targets                       #the DIFFERENCEs.\n",
        "\n",
        "    differences_squared = differences ** 2                    #the SQUAREs of ^\n",
        "\n",
        "    mean_of_differences_squared = differences_squared.mean()  #the MEAN of ^\n",
        "\n",
        "    rmse_val = np.sqrt(mean_of_differences_squared)           #ROOT of ^\n",
        "\n",
        "    return rmse_val  "
      ],
      "execution_count": 0,
      "outputs": []
    },
    {
      "cell_type": "code",
      "metadata": {
        "id": "OHS-cWcXINkE",
        "colab_type": "code",
        "colab": {}
      },
      "source": [
        ""
      ],
      "execution_count": 0,
      "outputs": []
    }
  ]
}